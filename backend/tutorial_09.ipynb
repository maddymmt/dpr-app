{
 "cells": [
  {
   "cell_type": "code",
   "execution_count": 2,
   "metadata": {},
   "outputs": [],
   "source": [
    "# from haystack.telemetry import tutorial_running\n",
    "# from haystack.nodes import DensePassageRetriever\n",
    "# from haystack.utils import fetch_archive_from_http\n",
    "# from haystack.document_stores import InMemoryDocumentStore\n",
    "\n",
    "# import logging\n",
    "\n",
    "# logging.basicConfig(format=\"%(levelname)s - %(name)s -  %(message)s\", level=logging.WARNING)\n",
    "# logging.getLogger(\"haystack\").setLevel(logging.INFO)\n",
    "\n",
    "# # tutorial_running(9)"
   ]
  },
  {
   "cell_type": "code",
   "execution_count": null,
   "metadata": {},
   "outputs": [],
   "source": [
    "# # Download original DPR data\n",
    "# # WARNING: the train set is 7.4GB and the dev set is 800MB\n",
    "\n",
    "# doc_dir = \"data/tutorial9\"\n",
    "\n",
    "# s3_url_train = \"https://dl.fbaipublicfiles.com/dpr/data/retriever/biencoder-nq-train.json.gz\"\n",
    "# s3_url_dev = \"https://dl.fbaipublicfiles.com/dpr/data/retriever/biencoder-nq-dev.json.gz\"\n",
    "\n",
    "# fetch_archive_from_http(s3_url_train, output_dir=doc_dir + \"/train\")\n",
    "# fetch_archive_from_http(s3_url_dev, output_dir=doc_dir + \"/dev\")\n"
   ]
  },
  {
   "cell_type": "code",
   "execution_count": null,
   "metadata": {},
   "outputs": [],
   "source": [
    "# # Here are the variables you might want to use instead of the set above\n",
    "# # in order to perform pretraining\n",
    "\n",
    "# doc_dir = \"PATH_TO_YOUR_DATA_DIR\"\n",
    "# train_filename = \"TRAIN_FILENAME\"\n",
    "# dev_filename = \"DEV_FILENAME\"\n",
    "\n",
    "# query_model = \"facebook/dpr-question_encoder-single-nq-base\"\n",
    "# passage_model = \"facebook/dpr-ctx_encoder-single-nq-base\"\n",
    "\n",
    "# save_dir = \"../saved_models/dpr\"\n"
   ]
  },
  {
   "cell_type": "code",
   "execution_count": null,
   "metadata": {},
   "outputs": [],
   "source": [
    "# ## Initialize DPR model\n",
    "\n",
    "# retriever = DensePassageRetriever(\n",
    "#     document_store=InMemoryDocumentStore(),\n",
    "#     query_embedding_model=query_model,\n",
    "#     passage_embedding_model=passage_model,\n",
    "#     max_seq_len_query=64,\n",
    "#     max_seq_len_passage=256,\n",
    "# )\n"
   ]
  },
  {
   "cell_type": "code",
   "execution_count": null,
   "metadata": {},
   "outputs": [],
   "source": [
    "# reloaded_retriever = DensePassageRetriever.load(load_dir=save_dir, document_store=None)\n"
   ]
  }
 ],
 "metadata": {
  "kernelspec": {
   "display_name": ".venv",
   "language": "python",
   "name": "python3"
  },
  "language_info": {
   "codemirror_mode": {
    "name": "ipython",
    "version": 3
   },
   "file_extension": ".py",
   "mimetype": "text/x-python",
   "name": "python",
   "nbconvert_exporter": "python",
   "pygments_lexer": "ipython3",
   "version": "3.10.2"
  }
 },
 "nbformat": 4,
 "nbformat_minor": 2
}
